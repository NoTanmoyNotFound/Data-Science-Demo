{
 "cells": [
  {
   "cell_type": "code",
   "execution_count": 1,
   "id": "8f823f80-2432-4802-99c3-e6bf8082f2ac",
   "metadata": {
    "collapsed": true,
    "jupyter": {
     "outputs_hidden": true
    }
   },
   "outputs": [
    {
     "name": "stdout",
     "output_type": "stream",
     "text": [
      "      name  Age  Gender\n",
      "0   Tanmoy   21    Male\n",
      "1     Aman   22    Male\n",
      "2  Pabitra   23    Male\n",
      "3     Riya   58  Female\n"
     ]
    }
   ],
   "source": [
    "import pandas as pd\n",
    "Students = {'name':['Tanmoy','Aman','Pabitra', 'Riya'] , 'Age':[21,22,23,58] , 'Gender':['Male','Male','Male','Female']}\n",
    "newStudents = pd.DataFrame(Students)\n",
    "print(newStudents)"
   ]
  },
  {
   "cell_type": "code",
   "execution_count": 2,
   "id": "615eded1-c0aa-4865-8020-797bfd3814fe",
   "metadata": {},
   "outputs": [
    {
     "data": {
      "text/plain": [
       "name        Riya\n",
       "Age           58\n",
       "Gender    Female\n",
       "Name: 3, dtype: object"
      ]
     },
     "execution_count": 2,
     "metadata": {},
     "output_type": "execute_result"
    }
   ],
   "source": [
    "newStudents.iloc[3]"
   ]
  },
  {
   "cell_type": "code",
   "execution_count": 6,
   "id": "27d4c02a-2318-4a8e-be8e-a3ed4d50ae1f",
   "metadata": {},
   "outputs": [
    {
     "name": "stdout",
     "output_type": "stream",
     "text": [
      "0     Tanmoy\n",
      "1       Aman\n",
      "2    Pabitra\n",
      "3       Riya\n",
      "Name: Name, dtype: object\n"
     ]
    }
   ],
   "source": [
    "nams = pd.Series(['Tanmoy','Aman','Pabitra', 'Riya'] , name = 'Name')\n",
    "print(nams)"
   ]
  },
  {
   "cell_type": "code",
   "execution_count": null,
   "id": "e9b324c4-11b3-4592-b35b-efe567784572",
   "metadata": {},
   "outputs": [],
   "source": []
  }
 ],
 "metadata": {
  "kernelspec": {
   "display_name": "Python 3 (ipykernel)",
   "language": "python",
   "name": "python3"
  },
  "language_info": {
   "codemirror_mode": {
    "name": "ipython",
    "version": 3
   },
   "file_extension": ".py",
   "mimetype": "text/x-python",
   "name": "python",
   "nbconvert_exporter": "python",
   "pygments_lexer": "ipython3",
   "version": "3.12.3"
  }
 },
 "nbformat": 4,
 "nbformat_minor": 5
}
