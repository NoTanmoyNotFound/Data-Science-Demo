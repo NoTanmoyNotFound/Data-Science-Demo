{
 "cells": [
  {
   "cell_type": "code",
   "execution_count": null,
   "id": "5eaa7976-6bd1-4b48-a3f7-539029440b60",
   "metadata": {},
   "outputs": [],
   "source": [
    " (.)(.)\n",
    "  )  (\n",
    " (    )\n",
    " \\    /\n",
    "    "
   ]
  }
 ],
 "metadata": {
  "kernelspec": {
   "display_name": "Python 3 (ipykernel)",
   "language": "python",
   "name": "python3"
  },
  "language_info": {
   "codemirror_mode": {
    "name": "ipython",
    "version": 3
   },
   "file_extension": ".py",
   "mimetype": "text/x-python",
   "name": "python",
   "nbconvert_exporter": "python",
   "pygments_lexer": "ipython3",
   "version": "3.12.3"
  }
 },
 "nbformat": 4,
 "nbformat_minor": 5
}
